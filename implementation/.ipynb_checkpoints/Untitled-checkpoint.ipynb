{
 "cells": [
  {
   "cell_type": "code",
   "execution_count": 104,
   "metadata": {},
   "outputs": [],
   "source": [
    "import numpy as np\n",
    "import preprocessor as p\n",
    "import pandas as pd"
   ]
  },
  {
   "cell_type": "code",
   "execution_count": 105,
   "metadata": {},
   "outputs": [
    {
     "name": "stderr",
     "output_type": "stream",
     "text": [
      "b'Skipping line 144: expected 2 fields, saw 3\\nSkipping line 197: expected 2 fields, saw 3\\nSkipping line 225: expected 2 fields, saw 3\\nSkipping line 245: expected 2 fields, saw 3\\n'\n"
     ]
    }
   ],
   "source": [
    "data = pd.read_csv('tweets_formatted_data.csv',header=None,error_bad_lines=False)"
   ]
  },
  {
   "cell_type": "code",
   "execution_count": 106,
   "metadata": {},
   "outputs": [
    {
     "data": {
      "text/html": [
       "<div>\n",
       "<style scoped>\n",
       "    .dataframe tbody tr th:only-of-type {\n",
       "        vertical-align: middle;\n",
       "    }\n",
       "\n",
       "    .dataframe tbody tr th {\n",
       "        vertical-align: top;\n",
       "    }\n",
       "\n",
       "    .dataframe thead th {\n",
       "        text-align: right;\n",
       "    }\n",
       "</style>\n",
       "<table border=\"1\" class=\"dataframe\">\n",
       "  <thead>\n",
       "    <tr style=\"text-align: right;\">\n",
       "      <th></th>\n",
       "      <th>0</th>\n",
       "      <th>1</th>\n",
       "    </tr>\n",
       "  </thead>\n",
       "  <tbody>\n",
       "    <tr>\n",
       "      <th>0</th>\n",
       "      <td>emergency</td>\n",
       "      <td>unable to sit due to sticky stains on berth. P...</td>\n",
       "    </tr>\n",
       "    <tr>\n",
       "      <th>1</th>\n",
       "      <td>emergency</td>\n",
       "      <td>pnr no 4512791357 need mdical emergency.having...</td>\n",
       "    </tr>\n",
       "    <tr>\n",
       "      <th>2</th>\n",
       "      <td>emergency</td>\n",
       "      <td>mobile stolen , need emergency help to track i...</td>\n",
       "    </tr>\n",
       "    <tr>\n",
       "      <th>3</th>\n",
       "      <td>emergency</td>\n",
       "      <td>no water supply in basins for the hast 7 hours...</td>\n",
       "    </tr>\n",
       "    <tr>\n",
       "      <th>4</th>\n",
       "      <td>emergency</td>\n",
       "      <td>fan isnt working for the last 6 hours at the t...</td>\n",
       "    </tr>\n",
       "    <tr>\n",
       "      <th>...</th>\n",
       "      <td>...</td>\n",
       "      <td>...</td>\n",
       "    </tr>\n",
       "    <tr>\n",
       "      <th>577</th>\n",
       "      <td>feedback</td>\n",
       "      <td>@manojsinhabjp https://t.co/7qbVSFwgdF</td>\n",
       "    </tr>\n",
       "    <tr>\n",
       "      <th>578</th>\n",
       "      <td>feedback</td>\n",
       "      <td>@RailMinIndia @RahmanAnsariBOI @drmlko25 Kindl...</td>\n",
       "    </tr>\n",
       "    <tr>\n",
       "      <th>579</th>\n",
       "      <td>feedback</td>\n",
       "      <td>@Arunkum01848073 @ccmsrly @SalemDRM @TNRA_Rail...</td>\n",
       "    </tr>\n",
       "    <tr>\n",
       "      <th>580</th>\n",
       "      <td>feedback</td>\n",
       "      <td>@RailMinIndia @at_agentofchaos @IR_ENHM Matter...</td>\n",
       "    </tr>\n",
       "    <tr>\n",
       "      <th>581</th>\n",
       "      <td>feedback</td>\n",
       "      <td>RT @RailMinIndia: @anshumantiwar10  Please sha...</td>\n",
       "    </tr>\n",
       "  </tbody>\n",
       "</table>\n",
       "<p>582 rows × 2 columns</p>\n",
       "</div>"
      ],
      "text/plain": [
       "             0                                                  1\n",
       "0    emergency  unable to sit due to sticky stains on berth. P...\n",
       "1    emergency  pnr no 4512791357 need mdical emergency.having...\n",
       "2    emergency  mobile stolen , need emergency help to track i...\n",
       "3    emergency  no water supply in basins for the hast 7 hours...\n",
       "4    emergency  fan isnt working for the last 6 hours at the t...\n",
       "..         ...                                                ...\n",
       "577   feedback             @manojsinhabjp https://t.co/7qbVSFwgdF\n",
       "578   feedback  @RailMinIndia @RahmanAnsariBOI @drmlko25 Kindl...\n",
       "579   feedback  @Arunkum01848073 @ccmsrly @SalemDRM @TNRA_Rail...\n",
       "580   feedback  @RailMinIndia @at_agentofchaos @IR_ENHM Matter...\n",
       "581   feedback  RT @RailMinIndia: @anshumantiwar10  Please sha...\n",
       "\n",
       "[582 rows x 2 columns]"
      ]
     },
     "execution_count": 106,
     "metadata": {},
     "output_type": "execute_result"
    }
   ],
   "source": [
    "data"
   ]
  },
  {
   "cell_type": "code",
   "execution_count": 107,
   "metadata": {},
   "outputs": [],
   "source": [
    "def clean_df(data):\n",
    "    rf_tweet = []\n",
    "    for tweet in data:\n",
    "        rf_tweet.append(p.clean(tweet))\n",
    "    return rf_tweet"
   ]
  },
  {
   "cell_type": "code",
   "execution_count": 108,
   "metadata": {},
   "outputs": [],
   "source": [
    "rf_tweet_df = pd.DataFrame(clean_df(data[1].values.tolist()))"
   ]
  },
  {
   "cell_type": "code",
   "execution_count": 109,
   "metadata": {},
   "outputs": [],
   "source": [
    "data=data.drop(1,axis=1)"
   ]
  },
  {
   "cell_type": "code",
   "execution_count": 110,
   "metadata": {},
   "outputs": [],
   "source": [
    "data.insert(1,1,rf_tweet_df)"
   ]
  },
  {
   "cell_type": "code",
   "execution_count": 111,
   "metadata": {},
   "outputs": [
    {
     "data": {
      "text/html": [
       "<div>\n",
       "<style scoped>\n",
       "    .dataframe tbody tr th:only-of-type {\n",
       "        vertical-align: middle;\n",
       "    }\n",
       "\n",
       "    .dataframe tbody tr th {\n",
       "        vertical-align: top;\n",
       "    }\n",
       "\n",
       "    .dataframe thead th {\n",
       "        text-align: right;\n",
       "    }\n",
       "</style>\n",
       "<table border=\"1\" class=\"dataframe\">\n",
       "  <thead>\n",
       "    <tr style=\"text-align: right;\">\n",
       "      <th></th>\n",
       "      <th>0</th>\n",
       "      <th>1</th>\n",
       "    </tr>\n",
       "  </thead>\n",
       "  <tbody>\n",
       "    <tr>\n",
       "      <th>0</th>\n",
       "      <td>emergency</td>\n",
       "      <td>unable to sit due to sticky stains on berth. P...</td>\n",
       "    </tr>\n",
       "    <tr>\n",
       "      <th>1</th>\n",
       "      <td>emergency</td>\n",
       "      <td>pnr no need mdical emergency.having blood vomits</td>\n",
       "    </tr>\n",
       "    <tr>\n",
       "      <th>2</th>\n",
       "      <td>emergency</td>\n",
       "      <td>mobile stolen , need emergency help to track i...</td>\n",
       "    </tr>\n",
       "    <tr>\n",
       "      <th>3</th>\n",
       "      <td>emergency</td>\n",
       "      <td>no water supply in basins for the hast hours,c...</td>\n",
       "    </tr>\n",
       "    <tr>\n",
       "      <th>4</th>\n",
       "      <td>emergency</td>\n",
       "      <td>fan isnt working for the last hours at the tim...</td>\n",
       "    </tr>\n",
       "    <tr>\n",
       "      <th>...</th>\n",
       "      <td>...</td>\n",
       "      <td>...</td>\n",
       "    </tr>\n",
       "    <tr>\n",
       "      <th>577</th>\n",
       "      <td>feedback</td>\n",
       "      <td></td>\n",
       "    </tr>\n",
       "    <tr>\n",
       "      <th>578</th>\n",
       "      <td>feedback</td>\n",
       "      <td>Kindly look into this</td>\n",
       "    </tr>\n",
       "    <tr>\n",
       "      <th>579</th>\n",
       "      <td>feedback</td>\n",
       "      <td>…</td>\n",
       "    </tr>\n",
       "    <tr>\n",
       "      <th>580</th>\n",
       "      <td>feedback</td>\n",
       "      <td>Matter notified to the concerned officials</td>\n",
       "    </tr>\n",
       "    <tr>\n",
       "      <th>581</th>\n",
       "      <td>feedback</td>\n",
       "      <td>: Please share your PNR no.</td>\n",
       "    </tr>\n",
       "  </tbody>\n",
       "</table>\n",
       "<p>582 rows × 2 columns</p>\n",
       "</div>"
      ],
      "text/plain": [
       "             0                                                  1\n",
       "0    emergency  unable to sit due to sticky stains on berth. P...\n",
       "1    emergency   pnr no need mdical emergency.having blood vomits\n",
       "2    emergency  mobile stolen , need emergency help to track i...\n",
       "3    emergency  no water supply in basins for the hast hours,c...\n",
       "4    emergency  fan isnt working for the last hours at the tim...\n",
       "..         ...                                                ...\n",
       "577   feedback                                                   \n",
       "578   feedback                              Kindly look into this\n",
       "579   feedback                                                  …\n",
       "580   feedback         Matter notified to the concerned officials\n",
       "581   feedback                        : Please share your PNR no.\n",
       "\n",
       "[582 rows x 2 columns]"
      ]
     },
     "execution_count": 111,
     "metadata": {},
     "output_type": "execute_result"
    }
   ],
   "source": [
    "data"
   ]
  },
  {
   "cell_type": "code",
   "execution_count": 112,
   "metadata": {},
   "outputs": [],
   "source": [
    "data = data.where(data[1]!='…' ).dropna()#or data[1]!=':')"
   ]
  },
  {
   "cell_type": "code",
   "execution_count": 113,
   "metadata": {},
   "outputs": [],
   "source": [
    "data = data.where(data[1]!='').dropna()"
   ]
  },
  {
   "cell_type": "code",
   "execution_count": 114,
   "metadata": {},
   "outputs": [],
   "source": [
    "data = data.where(data[1]!=': …').dropna()"
   ]
  },
  {
   "cell_type": "code",
   "execution_count": 115,
   "metadata": {},
   "outputs": [],
   "source": [
    "data = data.where(data[1]!=':').dropna()"
   ]
  },
  {
   "cell_type": "code",
   "execution_count": 116,
   "metadata": {},
   "outputs": [
    {
     "data": {
      "text/html": [
       "<div>\n",
       "<style scoped>\n",
       "    .dataframe tbody tr th:only-of-type {\n",
       "        vertical-align: middle;\n",
       "    }\n",
       "\n",
       "    .dataframe tbody tr th {\n",
       "        vertical-align: top;\n",
       "    }\n",
       "\n",
       "    .dataframe thead th {\n",
       "        text-align: right;\n",
       "    }\n",
       "</style>\n",
       "<table border=\"1\" class=\"dataframe\">\n",
       "  <thead>\n",
       "    <tr style=\"text-align: right;\">\n",
       "      <th></th>\n",
       "      <th>0</th>\n",
       "      <th>1</th>\n",
       "    </tr>\n",
       "  </thead>\n",
       "  <tbody>\n",
       "    <tr>\n",
       "      <th>0</th>\n",
       "      <td>emergency</td>\n",
       "      <td>unable to sit due to sticky stains on berth. P...</td>\n",
       "    </tr>\n",
       "    <tr>\n",
       "      <th>1</th>\n",
       "      <td>emergency</td>\n",
       "      <td>pnr no need mdical emergency.having blood vomits</td>\n",
       "    </tr>\n",
       "    <tr>\n",
       "      <th>2</th>\n",
       "      <td>emergency</td>\n",
       "      <td>mobile stolen , need emergency help to track i...</td>\n",
       "    </tr>\n",
       "    <tr>\n",
       "      <th>3</th>\n",
       "      <td>emergency</td>\n",
       "      <td>no water supply in basins for the hast hours,c...</td>\n",
       "    </tr>\n",
       "    <tr>\n",
       "      <th>4</th>\n",
       "      <td>emergency</td>\n",
       "      <td>fan isnt working for the last hours at the tim...</td>\n",
       "    </tr>\n",
       "    <tr>\n",
       "      <th>...</th>\n",
       "      <td>...</td>\n",
       "      <td>...</td>\n",
       "    </tr>\n",
       "    <tr>\n",
       "      <th>575</th>\n",
       "      <td>emergency</td>\n",
       "      <td>I have a booking in Train Number RXL-HYB speci...</td>\n",
       "    </tr>\n",
       "    <tr>\n",
       "      <th>576</th>\n",
       "      <td>feedback</td>\n",
       "      <td>The changed, passenger centric face of Railway...</td>\n",
       "    </tr>\n",
       "    <tr>\n",
       "      <th>578</th>\n",
       "      <td>feedback</td>\n",
       "      <td>Kindly look into this</td>\n",
       "    </tr>\n",
       "    <tr>\n",
       "      <th>580</th>\n",
       "      <td>feedback</td>\n",
       "      <td>Matter notified to the concerned officials</td>\n",
       "    </tr>\n",
       "    <tr>\n",
       "      <th>581</th>\n",
       "      <td>feedback</td>\n",
       "      <td>: Please share your PNR no.</td>\n",
       "    </tr>\n",
       "  </tbody>\n",
       "</table>\n",
       "<p>521 rows × 2 columns</p>\n",
       "</div>"
      ],
      "text/plain": [
       "             0                                                  1\n",
       "0    emergency  unable to sit due to sticky stains on berth. P...\n",
       "1    emergency   pnr no need mdical emergency.having blood vomits\n",
       "2    emergency  mobile stolen , need emergency help to track i...\n",
       "3    emergency  no water supply in basins for the hast hours,c...\n",
       "4    emergency  fan isnt working for the last hours at the tim...\n",
       "..         ...                                                ...\n",
       "575  emergency  I have a booking in Train Number RXL-HYB speci...\n",
       "576   feedback  The changed, passenger centric face of Railway...\n",
       "578   feedback                              Kindly look into this\n",
       "580   feedback         Matter notified to the concerned officials\n",
       "581   feedback                        : Please share your PNR no.\n",
       "\n",
       "[521 rows x 2 columns]"
      ]
     },
     "execution_count": 116,
     "metadata": {},
     "output_type": "execute_result"
    }
   ],
   "source": [
    "data"
   ]
  },
  {
   "cell_type": "code",
   "execution_count": 117,
   "metadata": {},
   "outputs": [],
   "source": [
    "data.to_csv('tweets_cleaned.csv',header=False,index=False)"
   ]
  },
  {
   "cell_type": "code",
   "execution_count": 119,
   "metadata": {},
   "outputs": [],
   "source": [
    "data = pd.read_csv('tweets_cleaned.csv',header=None)"
   ]
  },
  {
   "cell_type": "code",
   "execution_count": 120,
   "metadata": {},
   "outputs": [
    {
     "data": {
      "text/plain": [
       "': Holistic strategy to ensure growth'"
      ]
     },
     "execution_count": 120,
     "metadata": {},
     "output_type": "execute_result"
    }
   ],
   "source": [
    "data[1][222]"
   ]
  },
  {
   "cell_type": "code",
   "execution_count": null,
   "metadata": {},
   "outputs": [],
   "source": []
  }
 ],
 "metadata": {
  "kernelspec": {
   "display_name": "Python 3",
   "language": "python",
   "name": "python3"
  },
  "language_info": {
   "codemirror_mode": {
    "name": "ipython",
    "version": 3
   },
   "file_extension": ".py",
   "mimetype": "text/x-python",
   "name": "python",
   "nbconvert_exporter": "python",
   "pygments_lexer": "ipython3",
   "version": "3.7.6"
  }
 },
 "nbformat": 4,
 "nbformat_minor": 4
}
